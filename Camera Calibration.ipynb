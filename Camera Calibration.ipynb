{
 "cells": [
  {
   "cell_type": "markdown",
   "metadata": {},
   "source": [
    "https://docs.opencv.org/3.3.0/dc/dbb/tutorial_py_calibration.html"
   ]
  },
  {
   "cell_type": "markdown",
   "metadata": {},
   "source": [
    "## Goal\n",
    "learn about distortions in camera, intrinsic and extrinsic parameters of camera etc.\n",
    "<br>learn to find these parameters, undistort images etc.\n",
    "## Basics\n",
    "Some pinhole cameras introduces a lot of distortion to images. Two major distortions are radial distortion and tangential distortion.\n",
    "<br>Due to radial distortion, straight lines will appear curved. Its effect is more as we move away from the center of image."
   ]
  },
  {
   "cell_type": "code",
   "execution_count": null,
   "metadata": {},
   "outputs": [],
   "source": []
  }
 ],
 "metadata": {
  "kernelspec": {
   "display_name": "Python 3",
   "language": "python",
   "name": "python3"
  },
  "language_info": {
   "codemirror_mode": {
    "name": "ipython",
    "version": 3
   },
   "file_extension": ".py",
   "mimetype": "text/x-python",
   "name": "python",
   "nbconvert_exporter": "python",
   "pygments_lexer": "ipython3",
   "version": "3.7.0"
  }
 },
 "nbformat": 4,
 "nbformat_minor": 2
}
